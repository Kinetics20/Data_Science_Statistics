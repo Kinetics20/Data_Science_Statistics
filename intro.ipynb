{
 "cells": [
  {
   "cell_type": "code",
   "id": "initial_id",
   "metadata": {
    "ExecuteTime": {
     "end_time": "2025-04-28T10:51:16.010278Z",
     "start_time": "2025-04-28T10:51:16.001041Z"
    }
   },
   "source": [
    "import pandas as pd\n",
    "import matplotlib.pyplot as plt\n",
    "import numpy as np\n",
    "import seaborn as sns"
   ],
   "outputs": [],
   "execution_count": 1
  },
  {
   "cell_type": "code",
   "id": "3a8ef8cf-1e61-4a39-9ae8-322930057e3b",
   "metadata": {
    "ExecuteTime": {
     "end_time": "2025-04-28T10:51:25.971420Z",
     "start_time": "2025-04-28T10:51:25.935794Z"
    }
   },
   "source": [
    "df = pd.read_csv('datasets/height_data.csv')\n",
    "df.head()"
   ],
   "outputs": [
    {
     "data": {
      "text/plain": [
       "   Height\n",
       "0     174\n",
       "1     189\n",
       "2     185\n",
       "3     195\n",
       "4     149"
      ],
      "text/html": [
       "<div>\n",
       "<style scoped>\n",
       "    .dataframe tbody tr th:only-of-type {\n",
       "        vertical-align: middle;\n",
       "    }\n",
       "\n",
       "    .dataframe tbody tr th {\n",
       "        vertical-align: top;\n",
       "    }\n",
       "\n",
       "    .dataframe thead th {\n",
       "        text-align: right;\n",
       "    }\n",
       "</style>\n",
       "<table border=\"1\" class=\"dataframe\">\n",
       "  <thead>\n",
       "    <tr style=\"text-align: right;\">\n",
       "      <th></th>\n",
       "      <th>Height</th>\n",
       "    </tr>\n",
       "  </thead>\n",
       "  <tbody>\n",
       "    <tr>\n",
       "      <th>0</th>\n",
       "      <td>174</td>\n",
       "    </tr>\n",
       "    <tr>\n",
       "      <th>1</th>\n",
       "      <td>189</td>\n",
       "    </tr>\n",
       "    <tr>\n",
       "      <th>2</th>\n",
       "      <td>185</td>\n",
       "    </tr>\n",
       "    <tr>\n",
       "      <th>3</th>\n",
       "      <td>195</td>\n",
       "    </tr>\n",
       "    <tr>\n",
       "      <th>4</th>\n",
       "      <td>149</td>\n",
       "    </tr>\n",
       "  </tbody>\n",
       "</table>\n",
       "</div>"
      ]
     },
     "execution_count": 2,
     "metadata": {},
     "output_type": "execute_result"
    }
   ],
   "execution_count": 2
  },
  {
   "cell_type": "markdown",
   "id": "af9bbfde-7e9b-4633-8560-95c17153aed1",
   "metadata": {},
   "source": [
    "## Measure of central tendency"
   ]
  },
  {
   "cell_type": "code",
   "id": "d801e1d0-277f-46fc-9378-7edd4d7d823c",
   "metadata": {
    "ExecuteTime": {
     "end_time": "2025-04-28T10:57:00.341051Z",
     "start_time": "2025-04-28T10:57:00.327815Z"
    }
   },
   "source": [
    "df.mean()"
   ],
   "outputs": [
    {
     "data": {
      "text/plain": [
       "Height    169.944\n",
       "dtype: float64"
      ]
     },
     "execution_count": 3,
     "metadata": {},
     "output_type": "execute_result"
    }
   ],
   "execution_count": 3
  },
  {
   "cell_type": "code",
   "id": "75bc3c6b-0529-4090-a849-6904ac6b8eb8",
   "metadata": {
    "ExecuteTime": {
     "end_time": "2025-04-28T10:57:10.379862Z",
     "start_time": "2025-04-28T10:57:10.367382Z"
    }
   },
   "source": [
    "np.mean(df['Height'])"
   ],
   "outputs": [
    {
     "data": {
      "text/plain": [
       "np.float64(169.944)"
      ]
     },
     "execution_count": 4,
     "metadata": {},
     "output_type": "execute_result"
    }
   ],
   "execution_count": 4
  },
  {
   "cell_type": "code",
   "id": "6cd304b1-41c5-4079-842b-f492a236f7d9",
   "metadata": {
    "ExecuteTime": {
     "end_time": "2025-04-28T10:57:16.533790Z",
     "start_time": "2025-04-28T10:57:16.520544Z"
    }
   },
   "source": [
    "np.median(df)"
   ],
   "outputs": [
    {
     "data": {
      "text/plain": [
       "np.float64(170.5)"
      ]
     },
     "execution_count": 5,
     "metadata": {},
     "output_type": "execute_result"
    }
   ],
   "execution_count": 5
  },
  {
   "cell_type": "code",
   "id": "e39d1fc4-fde8-4111-91e8-df6eef23a7e9",
   "metadata": {
    "ExecuteTime": {
     "end_time": "2025-04-28T10:57:30.682003Z",
     "start_time": "2025-04-28T10:57:30.668349Z"
    }
   },
   "source": [
    "df.value_counts()"
   ],
   "outputs": [
    {
     "data": {
      "text/plain": [
       "Height\n",
       "188       15\n",
       "179       14\n",
       "187       14\n",
       "168       13\n",
       "178       13\n",
       "172       12\n",
       "184       12\n",
       "182       12\n",
       "150       11\n",
       "183       11\n",
       "181       11\n",
       "185       11\n",
       "165       10\n",
       "157       10\n",
       "154       10\n",
       "169       10\n",
       "195       10\n",
       "153       10\n",
       "177        9\n",
       "167        9\n",
       "166        9\n",
       "161        9\n",
       "164        9\n",
       "162        9\n",
       "159        9\n",
       "142        9\n",
       "145        9\n",
       "146        9\n",
       "186        9\n",
       "190        9\n",
       "174        8\n",
       "180        8\n",
       "152        8\n",
       "163        8\n",
       "171        8\n",
       "141        8\n",
       "151        8\n",
       "140        8\n",
       "147        7\n",
       "176        7\n",
       "197        7\n",
       "191        7\n",
       "160        7\n",
       "155        6\n",
       "192        6\n",
       "156        6\n",
       "170        6\n",
       "196        6\n",
       "149        5\n",
       "158        5\n",
       "148        5\n",
       "144        5\n",
       "198        5\n",
       "193        5\n",
       "194        5\n",
       "189        5\n",
       "173        4\n",
       "175        4\n",
       "143        3\n",
       "199        3\n",
       "Name: count, dtype: int64"
      ]
     },
     "execution_count": 6,
     "metadata": {},
     "output_type": "execute_result"
    }
   ],
   "execution_count": 6
  },
  {
   "cell_type": "code",
   "execution_count": 10,
   "id": "5eaceb99-364d-455e-895e-91626813a071",
   "metadata": {},
   "outputs": [
    {
     "data": {
      "text/plain": [
       "np.int64(188)"
      ]
     },
     "execution_count": 10,
     "metadata": {},
     "output_type": "execute_result"
    }
   ],
   "source": [
    "# np.mode(df) nie ma takiej funkcji\n",
    "values, counts = np.unique(df, return_counts=True)\n",
    "mode_value = values[np.argmax(counts)]\n",
    "mode_value"
   ]
  },
  {
   "cell_type": "code",
   "execution_count": 8,
   "id": "101e4469-f62d-4d73-b1ac-57a4aae5d5d3",
   "metadata": {},
   "outputs": [],
   "source": [
    "def mode(ndarray):\n",
    "    values, counts = np.unique(ndarray, return_counts=True)\n",
    "    return values[np.argmax(counts)]"
   ]
  },
  {
   "cell_type": "code",
   "execution_count": 9,
   "id": "611b6af2-fab1-4700-81f5-ae2a779f0afe",
   "metadata": {},
   "outputs": [
    {
     "data": {
      "text/html": [
       "<div>\n",
       "<style scoped>\n",
       "    .dataframe tbody tr th:only-of-type {\n",
       "        vertical-align: middle;\n",
       "    }\n",
       "\n",
       "    .dataframe tbody tr th {\n",
       "        vertical-align: top;\n",
       "    }\n",
       "\n",
       "    .dataframe thead th {\n",
       "        text-align: right;\n",
       "    }\n",
       "</style>\n",
       "<table border=\"1\" class=\"dataframe\">\n",
       "  <thead>\n",
       "    <tr style=\"text-align: right;\">\n",
       "      <th></th>\n",
       "      <th>Height</th>\n",
       "    </tr>\n",
       "  </thead>\n",
       "  <tbody>\n",
       "    <tr>\n",
       "      <th>0</th>\n",
       "      <td>188</td>\n",
       "    </tr>\n",
       "  </tbody>\n",
       "</table>\n",
       "</div>"
      ],
      "text/plain": [
       "   Height\n",
       "0     188"
      ]
     },
     "execution_count": 9,
     "metadata": {},
     "output_type": "execute_result"
    }
   ],
   "source": [
    "df.mode()"
   ]
  },
  {
   "cell_type": "code",
   "execution_count": 11,
   "id": "9e7a3ec2-cd2b-470b-a737-08545cec82e2",
   "metadata": {},
   "outputs": [
    {
     "data": {
      "text/plain": [
       "np.int64(140)"
      ]
     },
     "execution_count": 11,
     "metadata": {},
     "output_type": "execute_result"
    }
   ],
   "source": [
    "np.min(df)"
   ]
  },
  {
   "cell_type": "code",
   "execution_count": 12,
   "id": "cb3aa77c-080b-4eb7-96c2-e3ea83da78b5",
   "metadata": {},
   "outputs": [
    {
     "data": {
      "text/plain": [
       "np.int64(199)"
      ]
     },
     "execution_count": 12,
     "metadata": {},
     "output_type": "execute_result"
    }
   ],
   "source": [
    "np.max(df)"
   ]
  },
  {
   "cell_type": "code",
   "execution_count": 13,
   "id": "2ac3770e-9ab0-4ee2-98e1-4757b842f515",
   "metadata": {},
   "outputs": [
    {
     "data": {
      "text/plain": [
       "np.int64(59)"
      ]
     },
     "execution_count": 13,
     "metadata": {},
     "output_type": "execute_result"
    }
   ],
   "source": [
    "# RANGE\n",
    "\n",
    "range = np.max(df) - np.min(df)\n",
    "range"
   ]
  },
  {
   "cell_type": "code",
   "execution_count": 24,
   "id": "3cae5b5c-1c03-4d87-bd90-33f4b967c144",
   "metadata": {},
   "outputs": [
    {
     "data": {
      "text/plain": [
       "np.int64(59)"
      ]
     },
     "execution_count": 24,
     "metadata": {},
     "output_type": "execute_result"
    }
   ],
   "source": [
    "np.ptp(df)"
   ]
  },
  {
   "cell_type": "code",
   "id": "f2ac9322-aa98-4390-8e10-3f15c21c7fb2",
   "metadata": {
    "ExecuteTime": {
     "end_time": "2025-04-28T14:50:42.245465Z",
     "start_time": "2025-04-28T14:50:42.224446Z"
    }
   },
   "source": [
    "# IQR\n",
    "\n",
    "q1 = np.percentile(df, 25, method='lower')\n",
    "q1"
   ],
   "outputs": [
    {
     "data": {
      "text/plain": [
       "np.int64(156)"
      ]
     },
     "execution_count": 7,
     "metadata": {},
     "output_type": "execute_result"
    }
   ],
   "execution_count": 7
  },
  {
   "cell_type": "code",
   "id": "2a35293c-afb6-48eb-89ac-2b6f52563613",
   "metadata": {
    "ExecuteTime": {
     "end_time": "2025-04-28T14:50:44.911311Z",
     "start_time": "2025-04-28T14:50:44.901814Z"
    }
   },
   "source": [
    "q3 = np.percentile(df, 75, method='lower')\n",
    "q3"
   ],
   "outputs": [
    {
     "data": {
      "text/plain": [
       "np.int64(184)"
      ]
     },
     "execution_count": 8,
     "metadata": {},
     "output_type": "execute_result"
    }
   ],
   "execution_count": 8
  },
  {
   "cell_type": "code",
   "execution_count": 16,
   "id": "54334b9b-4e16-4e86-a894-57f5392889b2",
   "metadata": {},
   "outputs": [
    {
     "data": {
      "text/plain": [
       "np.int64(28)"
      ]
     },
     "execution_count": 16,
     "metadata": {},
     "output_type": "execute_result"
    }
   ],
   "source": [
    "iqr = q3 - q1\n",
    "iqr"
   ]
  },
  {
   "cell_type": "code",
   "execution_count": 17,
   "id": "4a79ee04-c78c-4702-89b5-7585f673a28f",
   "metadata": {},
   "outputs": [],
   "source": [
    "def irq(df):\n",
    "    return np.percentile(df, 75, method='lower') - np.percentile(df, 25, method='lower')"
   ]
  },
  {
   "cell_type": "code",
   "execution_count": 18,
   "id": "a09be423-9c5c-4219-bd65-944118ccbf87",
   "metadata": {},
   "outputs": [
    {
     "data": {
      "text/plain": [
       "Height    156.0\n",
       "Name: 0.25, dtype: float64"
      ]
     },
     "execution_count": 18,
     "metadata": {},
     "output_type": "execute_result"
    }
   ],
   "source": [
    "df.quantile(.25)"
   ]
  },
  {
   "cell_type": "code",
   "execution_count": 21,
   "id": "6d017af7-966d-415e-963d-0fde498d0562",
   "metadata": {},
   "outputs": [
    {
     "name": "stdout",
     "output_type": "stream",
     "text": [
      "\u001B[2K\u001B[2mResolved \u001B[1m114 packages\u001B[0m \u001B[2min 683ms\u001B[0m\u001B[0m                                       \u001B[0m\n",
      "\u001B[2K\u001B[2mInstalled \u001B[1m2 packages\u001B[0m \u001B[2min 1.37s\u001B[0m\u001B[0m                               \u001B[0m     \u001B[0m\n",
      " \u001B[32m+\u001B[39m \u001B[1mpatsy\u001B[0m\u001B[2m==1.0.1\u001B[0m\n",
      " \u001B[32m+\u001B[39m \u001B[1mstatsmodels\u001B[0m\u001B[2m==0.14.4\u001B[0m\n"
     ]
    }
   ],
   "source": [
    "!uv add statsmodels"
   ]
  },
  {
   "cell_type": "code",
   "execution_count": 20,
   "id": "5a3a0d02-e312-4762-84f6-b11b1046b23b",
   "metadata": {},
   "outputs": [
    {
     "name": "stdout",
     "output_type": "stream",
     "text": [
      "\u001B[2K\u001B[2mResolved \u001B[1m112 packages\u001B[0m \u001B[2min 590ms\u001B[0m\u001B[0m                                       \u001B[0m\n",
      "\u001B[2K\u001B[2mInstalled \u001B[1m1 package\u001B[0m \u001B[2min 209ms\u001B[0m\u001B[0m                                \u001B[0m     \u001B[0m\n",
      " \u001B[32m+\u001B[39m \u001B[1mscipy\u001B[0m\u001B[2m==1.15.2\u001B[0m\n"
     ]
    }
   ],
   "source": [
    "!uv add scipy"
   ]
  },
  {
   "cell_type": "code",
   "execution_count": 22,
   "id": "61dd7290-240a-4b63-9a48-62a64e6b3b8b",
   "metadata": {},
   "outputs": [],
   "source": [
    "import statsmodels\n",
    "from scipy import stats"
   ]
  },
  {
   "cell_type": "code",
   "execution_count": 23,
   "id": "9a72869b-04de-43ea-8a94-c4d395792837",
   "metadata": {},
   "outputs": [
    {
     "data": {
      "text/plain": [
       "np.float64(28.0)"
      ]
     },
     "execution_count": 23,
     "metadata": {},
     "output_type": "execute_result"
    }
   ],
   "source": [
    "stats.iqr(df)"
   ]
  },
  {
   "cell_type": "code",
   "execution_count": 28,
   "id": "41151f52-880f-4e53-a8e4-df2c86772506",
   "metadata": {},
   "outputs": [
    {
     "data": {
      "text/plain": [
       "np.float64(268.1491623246493)"
      ]
     },
     "execution_count": 28,
     "metadata": {},
     "output_type": "execute_result"
    }
   ],
   "source": [
    "# Variance\n",
    "\n",
    "np.var(df['Height'], ddof=1)"
   ]
  },
  {
   "cell_type": "code",
   "execution_count": 27,
   "id": "40b12681-b88b-4f5b-acc4-0e9bdfd98bfd",
   "metadata": {},
   "outputs": [
    {
     "data": {
      "text/plain": [
       "Height    268.149162\n",
       "dtype: float64"
      ]
     },
     "execution_count": 27,
     "metadata": {},
     "output_type": "execute_result"
    }
   ],
   "source": [
    "df.var()"
   ]
  },
  {
   "cell_type": "code",
   "execution_count": 29,
   "id": "d8cdce8b-3080-4f8b-9400-b66321a69bcd",
   "metadata": {},
   "outputs": [],
   "source": [
    "from statsmodels.stats.weightstats import DescrStatsW"
   ]
  },
  {
   "cell_type": "code",
   "execution_count": 31,
   "id": "4c1ba16c-0fd4-49d5-8e93-37e9c29c148f",
   "metadata": {},
   "outputs": [],
   "source": [
    "st = DescrStatsW(df['Height'])"
   ]
  },
  {
   "cell_type": "code",
   "execution_count": 32,
   "id": "496cb69a-ae1c-48dd-b647-a754de87394f",
   "metadata": {},
   "outputs": [
    {
     "data": {
      "text/plain": [
       "<statsmodels.stats.weightstats.DescrStatsW at 0x76fabfe06120>"
      ]
     },
     "execution_count": 32,
     "metadata": {},
     "output_type": "execute_result"
    }
   ],
   "source": [
    "st"
   ]
  },
  {
   "cell_type": "code",
   "execution_count": 33,
   "id": "cae469cc-1729-4eb7-abaf-ac1894190794",
   "metadata": {},
   "outputs": [
    {
     "data": {
      "text/plain": [
       "np.float64(169.944)"
      ]
     },
     "execution_count": 33,
     "metadata": {},
     "output_type": "execute_result"
    }
   ],
   "source": [
    "st.mean"
   ]
  },
  {
   "cell_type": "code",
   "execution_count": 34,
   "id": "68019b5c-de11-49e8-83bc-4805fa33b6f0",
   "metadata": {},
   "outputs": [
    {
     "data": {
      "text/plain": [
       "np.float64(267.612864)"
      ]
     },
     "execution_count": 34,
     "metadata": {},
     "output_type": "execute_result"
    }
   ],
   "source": [
    "st.var"
   ]
  },
  {
   "cell_type": "code",
   "execution_count": 37,
   "id": "1f82fa2d-df47-45aa-bbcc-79b6926f6133",
   "metadata": {},
   "outputs": [
    {
     "data": {
      "text/plain": [
       "np.float64(16.375260679593755)"
      ]
     },
     "execution_count": 37,
     "metadata": {},
     "output_type": "execute_result"
    }
   ],
   "source": [
    "np.std(df['Height'], ddof=1)"
   ]
  },
  {
   "cell_type": "code",
   "execution_count": 38,
   "id": "03b94b4f-3fa4-489e-a99a-72e406f5b981",
   "metadata": {},
   "outputs": [
    {
     "data": {
      "text/plain": [
       "Height    16.358877\n",
       "dtype: float64"
      ]
     },
     "execution_count": 38,
     "metadata": {},
     "output_type": "execute_result"
    }
   ],
   "source": [
    "df.std(ddof=0)"
   ]
  },
  {
   "cell_type": "code",
   "execution_count": 39,
   "id": "3d5ac053-7ee4-4e97-86e9-8d953e83ea76",
   "metadata": {},
   "outputs": [
    {
     "data": {
      "text/plain": [
       "np.float64(16.35887722308594)"
      ]
     },
     "execution_count": 39,
     "metadata": {},
     "output_type": "execute_result"
    }
   ],
   "source": [
    "np.sqrt(st.var)"
   ]
  },
  {
   "cell_type": "code",
   "execution_count": 40,
   "id": "8434746e-addc-48ea-9302-748c9f4431da",
   "metadata": {},
   "outputs": [
    {
     "data": {
      "text/plain": [
       "Height   -0.121914\n",
       "dtype: float64"
      ]
     },
     "execution_count": 40,
     "metadata": {},
     "output_type": "execute_result"
    }
   ],
   "source": [
    "# Sewness\n",
    "\n",
    "df.skew()"
   ]
  },
  {
   "cell_type": "code",
   "execution_count": 41,
   "id": "9a24ea17-9105-4ca0-8923-7213874559d0",
   "metadata": {},
   "outputs": [
    {
     "data": {
      "text/plain": [
       "np.float64(-0.12191368980139153)"
      ]
     },
     "execution_count": 41,
     "metadata": {},
     "output_type": "execute_result"
    }
   ],
   "source": [
    "df.skew().max()"
   ]
  },
  {
   "cell_type": "code",
   "execution_count": null,
   "id": "fcf734a8-60a2-4950-9db9-aaf81fdf3089",
   "metadata": {},
   "outputs": [],
   "source": []
  },
  {
   "cell_type": "code",
   "execution_count": 42,
   "id": "edc9218f-dbae-4bd4-9407-04d8a5b9c176",
   "metadata": {},
   "outputs": [
    {
     "data": {
      "image/png": "[encoded data removed]",
      "text/plain": [
       "<Figure size 640x480 with 1 Axes>"
      ]
     },
     "metadata": {},
     "output_type": "display_data"
    }
   ],
   "source": [
    "df.plot.hist()\n",
    "plt.show()"
   ]
  },
  {
   "cell_type": "code",
   "execution_count": 43,
   "id": "ad17f5cb-7e34-4c53-8009-033fda793e69",
   "metadata": {},
   "outputs": [
    {
     "data": {
      "image/png": "[encoded data removed]",
      "text/plain": [
       "<Figure size 640x480 with 1 Axes>"
      ]
     },
     "metadata": {},
     "output_type": "display_data"
    }
   ],
   "source": [
    "sns.kdeplot(data=df)\n",
    "\n",
    "plt.show()"
   ]
  },
  {
   "cell_type": "code",
   "execution_count": 44,
   "id": "50700d20-c39c-4423-97db-98193e72c040",
   "metadata": {},
   "outputs": [
    {
     "data": {
      "text/plain": [
       "np.float64(-0.12154764352037799)"
      ]
     },
     "execution_count": 44,
     "metadata": {},
     "output_type": "execute_result"
    }
   ],
   "source": [
    "stats.skew(df['Height'])"
   ]
  },
  {
   "cell_type": "code",
   "execution_count": 45,
   "id": "ed082bbc-cfe9-4cef-b470-e4cc007f3a37",
   "metadata": {},
   "outputs": [],
   "source": [
    "from statsmodels.stats import stattools"
   ]
  },
  {
   "cell_type": "code",
   "execution_count": 47,
   "id": "bc577022-888c-457a-a297-1bac40931cfa",
   "metadata": {},
   "outputs": [
    {
     "data": {
      "text/plain": [
       "(np.float64(-0.12154764352037792),\n",
       " np.float64(-0.03571428571428571),\n",
       " np.float64(-0.03938792859166985),\n",
       " np.float64(-0.03398766262609847))"
      ]
     },
     "execution_count": 47,
     "metadata": {},
     "output_type": "execute_result"
    }
   ],
   "source": [
    "stattools.robust_skewness(df['Height'])"
   ]
  },
  {
   "cell_type": "code",
   "execution_count": 48,
   "id": "d1d71985-676a-4175-a94a-19a5bac1c896",
   "metadata": {},
   "outputs": [],
   "source": [
    "#  Kurtosis\n",
    "\n",
    "from scipy.stats import kurtosis"
   ]
  },
  {
   "cell_type": "code",
   "execution_count": 49,
   "id": "d4dbc983-4f76-42dc-a14a-c95469a09315",
   "metadata": {},
   "outputs": [
    {
     "data": {
      "text/plain": [
       "np.float64(-1.1204815940488286)"
      ]
     },
     "execution_count": 49,
     "metadata": {},
     "output_type": "execute_result"
    }
   ],
   "source": [
    "kurtosis(df['Height']) # domyslnie znormalizowana (odjemuje 3 )"
   ]
  },
  {
   "cell_type": "code",
   "execution_count": 50,
   "id": "2ff17043-0475-4a63-bd2b-69b276582a9e",
   "metadata": {},
   "outputs": [
    {
     "data": {
      "text/plain": [
       "np.float64(1.8795184059511714)"
      ]
     },
     "execution_count": 50,
     "metadata": {},
     "output_type": "execute_result"
    }
   ],
   "source": [
    "kurtosis(df['Height'], fisher=False)"
   ]
  },
  {
   "cell_type": "code",
   "execution_count": 53,
   "id": "08d22b25-46ba-4038-86a1-f2f3cd5eff4b",
   "metadata": {},
   "outputs": [
    {
     "data": {
      "text/html": [
       "<div>\n",
       "<style scoped>\n",
       "    .dataframe tbody tr th:only-of-type {\n",
       "        vertical-align: middle;\n",
       "    }\n",
       "\n",
       "    .dataframe tbody tr th {\n",
       "        vertical-align: top;\n",
       "    }\n",
       "\n",
       "    .dataframe thead th {\n",
       "        text-align: right;\n",
       "    }\n",
       "</style>\n",
       "<table border=\"1\" class=\"dataframe\">\n",
       "  <thead>\n",
       "    <tr style=\"text-align: right;\">\n",
       "      <th></th>\n",
       "      <th>Height</th>\n",
       "    </tr>\n",
       "  </thead>\n",
       "  <tbody>\n",
       "    <tr>\n",
       "      <th>count</th>\n",
       "      <td>500.000000</td>\n",
       "    </tr>\n",
       "    <tr>\n",
       "      <th>mean</th>\n",
       "      <td>169.944000</td>\n",
       "    </tr>\n",
       "    <tr>\n",
       "      <th>std</th>\n",
       "      <td>16.375261</td>\n",
       "    </tr>\n",
       "    <tr>\n",
       "      <th>min</th>\n",
       "      <td>140.000000</td>\n",
       "    </tr>\n",
       "    <tr>\n",
       "      <th>0%</th>\n",
       "      <td>140.000000</td>\n",
       "    </tr>\n",
       "    <tr>\n",
       "      <th>10%</th>\n",
       "      <td>146.000000</td>\n",
       "    </tr>\n",
       "    <tr>\n",
       "      <th>20%</th>\n",
       "      <td>153.000000</td>\n",
       "    </tr>\n",
       "    <tr>\n",
       "      <th>30%</th>\n",
       "      <td>159.000000</td>\n",
       "    </tr>\n",
       "    <tr>\n",
       "      <th>40%</th>\n",
       "      <td>165.000000</td>\n",
       "    </tr>\n",
       "    <tr>\n",
       "      <th>50%</th>\n",
       "      <td>170.500000</td>\n",
       "    </tr>\n",
       "    <tr>\n",
       "      <th>60%</th>\n",
       "      <td>177.000000</td>\n",
       "    </tr>\n",
       "    <tr>\n",
       "      <th>70%</th>\n",
       "      <td>182.000000</td>\n",
       "    </tr>\n",
       "    <tr>\n",
       "      <th>80%</th>\n",
       "      <td>186.000000</td>\n",
       "    </tr>\n",
       "    <tr>\n",
       "      <th>90%</th>\n",
       "      <td>191.000000</td>\n",
       "    </tr>\n",
       "    <tr>\n",
       "      <th>max</th>\n",
       "      <td>199.000000</td>\n",
       "    </tr>\n",
       "  </tbody>\n",
       "</table>\n",
       "</div>"
      ],
      "text/plain": [
       "           Height\n",
       "count  500.000000\n",
       "mean   169.944000\n",
       "std     16.375261\n",
       "min    140.000000\n",
       "0%     140.000000\n",
       "10%    146.000000\n",
       "20%    153.000000\n",
       "30%    159.000000\n",
       "40%    165.000000\n",
       "50%    170.500000\n",
       "60%    177.000000\n",
       "70%    182.000000\n",
       "80%    186.000000\n",
       "90%    191.000000\n",
       "max    199.000000"
      ]
     },
     "execution_count": 53,
     "metadata": {},
     "output_type": "execute_result"
    }
   ],
   "source": [
    "df.describe(percentiles=np.arange(0, 1, 0.1))"
   ]
  },
  {
   "cell_type": "code",
   "execution_count": null,
   "id": "59d35ed1-42fc-49f8-8ede-78c3a05592ea",
   "metadata": {},
   "outputs": [],
   "source": []
  }
 ],
 "metadata": {
  "kernelspec": {
   "display_name": "Python 3 (ipykernel)",
   "language": "python",
   "name": "python3"
  },
  "language_info": {
   "codemirror_mode": {
    "name": "ipython",
    "version": 3
   },
   "file_extension": ".py",
   "mimetype": "text/x-python",
   "name": "python",
   "nbconvert_exporter": "python",
   "pygments_lexer": "ipython3",
   "version": "3.13.1"
  }
 },
 "nbformat": 4,
 "nbformat_minor": 5
}
