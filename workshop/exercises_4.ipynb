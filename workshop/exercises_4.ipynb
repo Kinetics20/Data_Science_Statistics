{
 "cells": [
  {
   "cell_type": "code",
   "id": "initial_id",
   "metadata": {
    "collapsed": true,
    "ExecuteTime": {
     "end_time": "2025-04-29T15:09:06.288499Z",
     "start_time": "2025-04-29T15:09:06.283189Z"
    }
   },
   "source": [
    "a = {1, 2, 3}\n",
    "b = {1, 3, 5}"
   ],
   "outputs": [],
   "execution_count": 1
  },
  {
   "metadata": {
    "ExecuteTime": {
     "end_time": "2025-04-29T15:09:28.482778Z",
     "start_time": "2025-04-29T15:09:28.466928Z"
    }
   },
   "cell_type": "code",
   "source": [
    "# intersection\n",
    "a & b"
   ],
   "id": "beccf920938f56f6",
   "outputs": [
    {
     "data": {
      "text/plain": [
       "{1, 3}"
      ]
     },
     "execution_count": 2,
     "metadata": {},
     "output_type": "execute_result"
    }
   ],
   "execution_count": 2
  },
  {
   "metadata": {
    "ExecuteTime": {
     "end_time": "2025-04-29T15:09:48.137170Z",
     "start_time": "2025-04-29T15:09:48.125127Z"
    }
   },
   "cell_type": "code",
   "source": [
    "# union\n",
    "a | b"
   ],
   "id": "83f45e4be16fd584",
   "outputs": [
    {
     "data": {
      "text/plain": [
       "{1, 2, 3, 5}"
      ]
     },
     "execution_count": 3,
     "metadata": {},
     "output_type": "execute_result"
    }
   ],
   "execution_count": 3
  },
  {
   "metadata": {
    "ExecuteTime": {
     "end_time": "2025-04-29T15:12:36.705395Z",
     "start_time": "2025-04-29T15:12:36.693179Z"
    }
   },
   "cell_type": "code",
   "source": [
    "# difference\n",
    "a - b"
   ],
   "id": "efbc9d58942077ca",
   "outputs": [
    {
     "data": {
      "text/plain": [
       "{2}"
      ]
     },
     "execution_count": 4,
     "metadata": {},
     "output_type": "execute_result"
    }
   ],
   "execution_count": 4
  },
  {
   "metadata": {
    "ExecuteTime": {
     "end_time": "2025-04-29T15:14:03.772931Z",
     "start_time": "2025-04-29T15:14:03.761162Z"
    }
   },
   "cell_type": "code",
   "source": [
    "# symmetric difference\n",
    "a ^ b"
   ],
   "id": "f31e5f3b2fe6703b",
   "outputs": [
    {
     "data": {
      "text/plain": [
       "{2, 5}"
      ]
     },
     "execution_count": 5,
     "metadata": {},
     "output_type": "execute_result"
    }
   ],
   "execution_count": 5
  }
 ],
 "metadata": {
  "kernelspec": {
   "display_name": "Python 3",
   "language": "python",
   "name": "python3"
  },
  "language_info": {
   "codemirror_mode": {
    "name": "ipython",
    "version": 2
   },
   "file_extension": ".py",
   "mimetype": "text/x-python",
   "name": "python",
   "nbconvert_exporter": "python",
   "pygments_lexer": "ipython2",
   "version": "2.7.6"
  }
 },
 "nbformat": 4,
 "nbformat_minor": 5
}
