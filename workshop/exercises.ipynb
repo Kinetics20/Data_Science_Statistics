{
 "cells": [
  {
   "cell_type": "code",
   "id": "initial_id",
   "metadata": {
    "collapsed": true,
    "ExecuteTime": {
     "end_time": "2025-04-28T15:34:49.804534Z",
     "start_time": "2025-04-28T15:34:49.797564Z"
    }
   },
   "source": [
    "import pandas as pd\n",
    "import matplotlib.pyplot as plt\n",
    "import numpy as np\n",
    "import seaborn as sns\n",
    "import statsmodels\n",
    "from scipy import stats\n",
    "from statsmodels.stats.weightstats import DescrStatsW\n",
    "from statsmodels.stats import stattools\n",
    "from scipy.stats import kurtosis\n",
    "\n"
   ],
   "outputs": [],
   "execution_count": 46
  },
  {
   "metadata": {
    "ExecuteTime": {
     "end_time": "2025-04-28T13:43:30.320389Z",
     "start_time": "2025-04-28T13:43:30.289308Z"
    }
   },
   "cell_type": "code",
   "source": [
    "df = pd.read_csv('../datasets/height_data.csv')\n",
    "df.head()"
   ],
   "id": "db01e6116e61ed49",
   "outputs": [
    {
     "data": {
      "text/plain": [
       "   Height\n",
       "0     174\n",
       "1     189\n",
       "2     185\n",
       "3     195\n",
       "4     149"
      ],
      "text/html": [
       "<div>\n",
       "<style scoped>\n",
       "    .dataframe tbody tr th:only-of-type {\n",
       "        vertical-align: middle;\n",
       "    }\n",
       "\n",
       "    .dataframe tbody tr th {\n",
       "        vertical-align: top;\n",
       "    }\n",
       "\n",
       "    .dataframe thead th {\n",
       "        text-align: right;\n",
       "    }\n",
       "</style>\n",
       "<table border=\"1\" class=\"dataframe\">\n",
       "  <thead>\n",
       "    <tr style=\"text-align: right;\">\n",
       "      <th></th>\n",
       "      <th>Height</th>\n",
       "    </tr>\n",
       "  </thead>\n",
       "  <tbody>\n",
       "    <tr>\n",
       "      <th>0</th>\n",
       "      <td>174</td>\n",
       "    </tr>\n",
       "    <tr>\n",
       "      <th>1</th>\n",
       "      <td>189</td>\n",
       "    </tr>\n",
       "    <tr>\n",
       "      <th>2</th>\n",
       "      <td>185</td>\n",
       "    </tr>\n",
       "    <tr>\n",
       "      <th>3</th>\n",
       "      <td>195</td>\n",
       "    </tr>\n",
       "    <tr>\n",
       "      <th>4</th>\n",
       "      <td>149</td>\n",
       "    </tr>\n",
       "  </tbody>\n",
       "</table>\n",
       "</div>"
      ]
     },
     "execution_count": 3,
     "metadata": {},
     "output_type": "execute_result"
    }
   ],
   "execution_count": 3
  },
  {
   "metadata": {
    "ExecuteTime": {
     "end_time": "2025-04-28T13:52:32.060012Z",
     "start_time": "2025-04-28T13:52:32.045718Z"
    }
   },
   "cell_type": "code",
   "source": "df.mean()",
   "id": "9deae9fb8611547b",
   "outputs": [
    {
     "data": {
      "text/plain": [
       "Height    169.944\n",
       "dtype: float64"
      ]
     },
     "execution_count": 4,
     "metadata": {},
     "output_type": "execute_result"
    }
   ],
   "execution_count": 4
  },
  {
   "metadata": {
    "ExecuteTime": {
     "end_time": "2025-04-28T13:53:08.257200Z",
     "start_time": "2025-04-28T13:53:08.248296Z"
    }
   },
   "cell_type": "code",
   "source": "np.mean(df['Height'])",
   "id": "28ef0b21c9fb1a6d",
   "outputs": [
    {
     "data": {
      "text/plain": [
       "np.float64(169.944)"
      ]
     },
     "execution_count": 6,
     "metadata": {},
     "output_type": "execute_result"
    }
   ],
   "execution_count": 6
  },
  {
   "metadata": {
    "ExecuteTime": {
     "end_time": "2025-04-28T13:53:37.625220Z",
     "start_time": "2025-04-28T13:53:37.615633Z"
    }
   },
   "cell_type": "code",
   "source": "np.mean(df)",
   "id": "759273338918c7e0",
   "outputs": [
    {
     "data": {
      "text/plain": [
       "np.float64(169.944)"
      ]
     },
     "execution_count": 7,
     "metadata": {},
     "output_type": "execute_result"
    }
   ],
   "execution_count": 7
  },
  {
   "metadata": {
    "ExecuteTime": {
     "end_time": "2025-04-28T13:59:12.347673Z",
     "start_time": "2025-04-28T13:59:12.333116Z"
    }
   },
   "cell_type": "code",
   "source": "np.median(df)",
   "id": "21473e2000fdafa8",
   "outputs": [
    {
     "data": {
      "text/plain": [
       "np.float64(170.5)"
      ]
     },
     "execution_count": 8,
     "metadata": {},
     "output_type": "execute_result"
    }
   ],
   "execution_count": 8
  },
  {
   "metadata": {
    "ExecuteTime": {
     "end_time": "2025-04-28T13:59:33.354326Z",
     "start_time": "2025-04-28T13:59:33.339722Z"
    }
   },
   "cell_type": "code",
   "source": "df.value_counts()",
   "id": "d037b48ca2445c55",
   "outputs": [
    {
     "data": {
      "text/plain": [
       "Height\n",
       "188       15\n",
       "179       14\n",
       "187       14\n",
       "168       13\n",
       "178       13\n",
       "172       12\n",
       "184       12\n",
       "182       12\n",
       "150       11\n",
       "183       11\n",
       "181       11\n",
       "185       11\n",
       "165       10\n",
       "157       10\n",
       "154       10\n",
       "169       10\n",
       "195       10\n",
       "153       10\n",
       "177        9\n",
       "167        9\n",
       "166        9\n",
       "161        9\n",
       "164        9\n",
       "162        9\n",
       "159        9\n",
       "142        9\n",
       "145        9\n",
       "146        9\n",
       "186        9\n",
       "190        9\n",
       "174        8\n",
       "180        8\n",
       "152        8\n",
       "163        8\n",
       "171        8\n",
       "141        8\n",
       "151        8\n",
       "140        8\n",
       "147        7\n",
       "176        7\n",
       "197        7\n",
       "191        7\n",
       "160        7\n",
       "155        6\n",
       "192        6\n",
       "156        6\n",
       "170        6\n",
       "196        6\n",
       "149        5\n",
       "158        5\n",
       "148        5\n",
       "144        5\n",
       "198        5\n",
       "193        5\n",
       "194        5\n",
       "189        5\n",
       "173        4\n",
       "175        4\n",
       "143        3\n",
       "199        3\n",
       "Name: count, dtype: int64"
      ]
     },
     "execution_count": 9,
     "metadata": {},
     "output_type": "execute_result"
    }
   ],
   "execution_count": 9
  },
  {
   "metadata": {
    "ExecuteTime": {
     "end_time": "2025-04-28T14:05:45.215465Z",
     "start_time": "2025-04-28T14:05:45.199746Z"
    }
   },
   "cell_type": "code",
   "source": [
    "values, counts = np.unique(df, return_index=True)\n",
    "mode_value = values[np.argmin(counts)]\n",
    "mode_value"
   ],
   "id": "a9a3153948037e43",
   "outputs": [
    {
     "data": {
      "text/plain": [
       "np.int64(174)"
      ]
     },
     "execution_count": 10,
     "metadata": {},
     "output_type": "execute_result"
    }
   ],
   "execution_count": 10
  },
  {
   "metadata": {
    "ExecuteTime": {
     "end_time": "2025-04-28T14:46:35.335886Z",
     "start_time": "2025-04-28T14:46:35.327598Z"
    }
   },
   "cell_type": "code",
   "source": [
    "def mode(ndarray):\n",
    "    values, counts = np.unique(ndarray, return_index=True)\n",
    "    return values[np.argmin(counts)]"
   ],
   "id": "df3091f080c86626",
   "outputs": [],
   "execution_count": 21
  },
  {
   "metadata": {
    "ExecuteTime": {
     "end_time": "2025-04-28T14:09:08.010720Z",
     "start_time": "2025-04-28T14:09:07.992579Z"
    }
   },
   "cell_type": "code",
   "source": "df.mode()",
   "id": "c5cef330b443ede8",
   "outputs": [
    {
     "data": {
      "text/plain": [
       "   Height\n",
       "0     188"
      ],
      "text/html": [
       "<div>\n",
       "<style scoped>\n",
       "    .dataframe tbody tr th:only-of-type {\n",
       "        vertical-align: middle;\n",
       "    }\n",
       "\n",
       "    .dataframe tbody tr th {\n",
       "        vertical-align: top;\n",
       "    }\n",
       "\n",
       "    .dataframe thead th {\n",
       "        text-align: right;\n",
       "    }\n",
       "</style>\n",
       "<table border=\"1\" class=\"dataframe\">\n",
       "  <thead>\n",
       "    <tr style=\"text-align: right;\">\n",
       "      <th></th>\n",
       "      <th>Height</th>\n",
       "    </tr>\n",
       "  </thead>\n",
       "  <tbody>\n",
       "    <tr>\n",
       "      <th>0</th>\n",
       "      <td>188</td>\n",
       "    </tr>\n",
       "  </tbody>\n",
       "</table>\n",
       "</div>"
      ]
     },
     "execution_count": 12,
     "metadata": {},
     "output_type": "execute_result"
    }
   ],
   "execution_count": 12
  },
  {
   "metadata": {
    "ExecuteTime": {
     "end_time": "2025-04-28T14:09:40.268957Z",
     "start_time": "2025-04-28T14:09:40.242157Z"
    }
   },
   "cell_type": "code",
   "source": "np.min(df)",
   "id": "5b8577351fac9a54",
   "outputs": [
    {
     "data": {
      "text/plain": [
       "np.int64(140)"
      ]
     },
     "execution_count": 13,
     "metadata": {},
     "output_type": "execute_result"
    }
   ],
   "execution_count": 13
  },
  {
   "metadata": {
    "ExecuteTime": {
     "end_time": "2025-04-28T14:09:58.258727Z",
     "start_time": "2025-04-28T14:09:58.251690Z"
    }
   },
   "cell_type": "code",
   "source": "np.max(df)",
   "id": "d0f2893d85018087",
   "outputs": [
    {
     "data": {
      "text/plain": [
       "np.int64(199)"
      ]
     },
     "execution_count": 14,
     "metadata": {},
     "output_type": "execute_result"
    }
   ],
   "execution_count": 14
  },
  {
   "metadata": {
    "ExecuteTime": {
     "end_time": "2025-04-28T14:12:58.069082Z",
     "start_time": "2025-04-28T14:12:58.060128Z"
    }
   },
   "cell_type": "code",
   "source": [
    "difference = np.max(df) - np.min(df)\n",
    "difference"
   ],
   "id": "126809e8e51cbd27",
   "outputs": [
    {
     "data": {
      "text/plain": [
       "np.int64(59)"
      ]
     },
     "execution_count": 15,
     "metadata": {},
     "output_type": "execute_result"
    }
   ],
   "execution_count": 15
  },
  {
   "metadata": {
    "ExecuteTime": {
     "end_time": "2025-04-28T14:15:35.538031Z",
     "start_time": "2025-04-28T14:15:35.518314Z"
    }
   },
   "cell_type": "code",
   "source": [
    "# peak to peak - ptp\n",
    "np.ptp(df)"
   ],
   "id": "251459361131da49",
   "outputs": [
    {
     "data": {
      "text/plain": [
       "np.int64(59)"
      ]
     },
     "execution_count": 17,
     "metadata": {},
     "output_type": "execute_result"
    }
   ],
   "execution_count": 17
  },
  {
   "metadata": {
    "ExecuteTime": {
     "end_time": "2025-04-28T14:27:17.660521Z",
     "start_time": "2025-04-28T14:27:17.646122Z"
    }
   },
   "cell_type": "code",
   "source": [
    "q1 = np.percentile(df, 25, method='lower')\n",
    "q1"
   ],
   "id": "1605cc5383f37657",
   "outputs": [
    {
     "data": {
      "text/plain": [
       "np.int64(156)"
      ]
     },
     "execution_count": 19,
     "metadata": {},
     "output_type": "execute_result"
    }
   ],
   "execution_count": 19
  },
  {
   "metadata": {
    "ExecuteTime": {
     "end_time": "2025-04-28T14:48:35.987381Z",
     "start_time": "2025-04-28T14:48:35.966924Z"
    }
   },
   "cell_type": "code",
   "source": [
    "q3 = np.percentile(df, 75, method='higher')\n",
    "q3"
   ],
   "id": "d45a46e0307d738f",
   "outputs": [
    {
     "data": {
      "text/plain": [
       "np.int64(184)"
      ]
     },
     "execution_count": 23,
     "metadata": {},
     "output_type": "execute_result"
    }
   ],
   "execution_count": 23
  },
  {
   "metadata": {
    "ExecuteTime": {
     "end_time": "2025-04-28T14:52:05.671236Z",
     "start_time": "2025-04-28T14:52:05.663449Z"
    }
   },
   "cell_type": "code",
   "source": [
    "iqr = q3 - q1\n",
    "iqr"
   ],
   "id": "e99011bc1d245900",
   "outputs": [
    {
     "data": {
      "text/plain": [
       "np.int64(28)"
      ]
     },
     "execution_count": 24,
     "metadata": {},
     "output_type": "execute_result"
    }
   ],
   "execution_count": 24
  },
  {
   "metadata": {
    "ExecuteTime": {
     "end_time": "2025-04-28T14:53:32.595320Z",
     "start_time": "2025-04-28T14:53:32.588498Z"
    }
   },
   "cell_type": "code",
   "source": [
    "def iqr(df):\n",
    "    return np.percentile(df, 75, method='lower') - np.percentile(df, 25, method='higher')"
   ],
   "id": "f8752af68d329971",
   "outputs": [],
   "execution_count": 25
  },
  {
   "metadata": {
    "ExecuteTime": {
     "end_time": "2025-04-28T14:53:48.035456Z",
     "start_time": "2025-04-28T14:53:48.020566Z"
    }
   },
   "cell_type": "code",
   "source": "iqr(df)",
   "id": "6baca3c1d0cfa859",
   "outputs": [
    {
     "data": {
      "text/plain": [
       "np.int64(28)"
      ]
     },
     "execution_count": 26,
     "metadata": {},
     "output_type": "execute_result"
    }
   ],
   "execution_count": 26
  },
  {
   "metadata": {
    "ExecuteTime": {
     "end_time": "2025-04-28T14:54:26.594468Z",
     "start_time": "2025-04-28T14:54:26.584711Z"
    }
   },
   "cell_type": "code",
   "source": "df.quantile(.25)",
   "id": "23058f0977978c40",
   "outputs": [
    {
     "data": {
      "text/plain": [
       "Height    156.0\n",
       "Name: 0.25, dtype: float64"
      ]
     },
     "execution_count": 27,
     "metadata": {},
     "output_type": "execute_result"
    }
   ],
   "execution_count": 27
  },
  {
   "metadata": {
    "ExecuteTime": {
     "end_time": "2025-04-28T14:55:26.793360Z",
     "start_time": "2025-04-28T14:55:26.779982Z"
    }
   },
   "cell_type": "code",
   "source": "stats.iqr(df)",
   "id": "e66626d6abdd3651",
   "outputs": [
    {
     "data": {
      "text/plain": [
       "np.float64(28.0)"
      ]
     },
     "execution_count": 29,
     "metadata": {},
     "output_type": "execute_result"
    }
   ],
   "execution_count": 29
  },
  {
   "metadata": {
    "ExecuteTime": {
     "end_time": "2025-04-28T15:00:15.289414Z",
     "start_time": "2025-04-28T15:00:15.276747Z"
    }
   },
   "cell_type": "code",
   "source": "df.var()",
   "id": "d2522945c4a2121e",
   "outputs": [
    {
     "data": {
      "text/plain": [
       "Height    268.149162\n",
       "dtype: float64"
      ]
     },
     "execution_count": 30,
     "metadata": {},
     "output_type": "execute_result"
    }
   ],
   "execution_count": 30
  },
  {
   "metadata": {
    "ExecuteTime": {
     "end_time": "2025-04-28T15:05:00.623258Z",
     "start_time": "2025-04-28T15:05:00.614774Z"
    }
   },
   "cell_type": "code",
   "source": [
    "st = DescrStatsW(df['Height'])\n",
    "st"
   ],
   "id": "9382ebbb9c77bcee",
   "outputs": [
    {
     "data": {
      "text/plain": [
       "<statsmodels.stats.weightstats.DescrStatsW at 0x7b25bd4aaa50>"
      ]
     },
     "execution_count": 32,
     "metadata": {},
     "output_type": "execute_result"
    }
   ],
   "execution_count": 32
  },
  {
   "metadata": {
    "ExecuteTime": {
     "end_time": "2025-04-28T15:14:51.497881Z",
     "start_time": "2025-04-28T15:14:51.485440Z"
    }
   },
   "cell_type": "code",
   "source": "st.mean",
   "id": "1b9c44d1876ab9d1",
   "outputs": [
    {
     "data": {
      "text/plain": [
       "np.float64(169.944)"
      ]
     },
     "execution_count": 34,
     "metadata": {},
     "output_type": "execute_result"
    }
   ],
   "execution_count": 34
  },
  {
   "metadata": {
    "ExecuteTime": {
     "end_time": "2025-04-28T15:15:14.327307Z",
     "start_time": "2025-04-28T15:15:14.309684Z"
    }
   },
   "cell_type": "code",
   "source": "st.var",
   "id": "488c93184afe8d70",
   "outputs": [
    {
     "data": {
      "text/plain": [
       "np.float64(267.612864)"
      ]
     },
     "execution_count": 35,
     "metadata": {},
     "output_type": "execute_result"
    }
   ],
   "execution_count": 35
  },
  {
   "metadata": {
    "ExecuteTime": {
     "end_time": "2025-04-28T15:22:11.514183Z",
     "start_time": "2025-04-28T15:22:11.501248Z"
    }
   },
   "cell_type": "code",
   "source": "np.std(df['Height'], ddof=1)",
   "id": "879359a6fb592347",
   "outputs": [
    {
     "data": {
      "text/plain": [
       "np.float64(16.375260679593755)"
      ]
     },
     "execution_count": 37,
     "metadata": {},
     "output_type": "execute_result"
    }
   ],
   "execution_count": 37
  },
  {
   "metadata": {
    "ExecuteTime": {
     "end_time": "2025-04-28T15:22:48.446398Z",
     "start_time": "2025-04-28T15:22:48.437726Z"
    }
   },
   "cell_type": "code",
   "source": "df.std(ddof=0)",
   "id": "ea2e05a00d73e367",
   "outputs": [
    {
     "data": {
      "text/plain": [
       "Height    16.358877\n",
       "dtype: float64"
      ]
     },
     "execution_count": 39,
     "metadata": {},
     "output_type": "execute_result"
    }
   ],
   "execution_count": 39
  },
  {
   "metadata": {
    "ExecuteTime": {
     "end_time": "2025-04-28T15:23:39.967398Z",
     "start_time": "2025-04-28T15:23:39.955787Z"
    }
   },
   "cell_type": "code",
   "source": "np.sqrt(st.var)",
   "id": "cac6b5d556c7c7a3",
   "outputs": [
    {
     "data": {
      "text/plain": [
       "np.float64(16.35887722308594)"
      ]
     },
     "execution_count": 40,
     "metadata": {},
     "output_type": "execute_result"
    }
   ],
   "execution_count": 40
  },
  {
   "metadata": {
    "ExecuteTime": {
     "end_time": "2025-04-28T15:27:35.880342Z",
     "start_time": "2025-04-28T15:27:35.527463Z"
    }
   },
   "cell_type": "code",
   "source": [
    "df.plot.hist()\n",
    "plt.show()"
   ],
   "id": "7dcf1f34613f3ba3",
   "outputs": [
    {
     "data": {
      "text/plain": [
       "<Figure size 640x480 with 1 Axes>"
      ],
      "image/png": "[encoded data removed]"
     },
     "metadata": {},
     "output_type": "display_data"
    }
   ],
   "execution_count": 41
  },
  {
   "metadata": {
    "ExecuteTime": {
     "end_time": "2025-04-28T15:30:09.399068Z",
     "start_time": "2025-04-28T15:30:09.163260Z"
    }
   },
   "cell_type": "code",
   "source": [
    "sns.kdeplot(data=df)\n",
    "plt.show()"
   ],
   "id": "b47a3beadf24697b",
   "outputs": [
    {
     "data": {
      "text/plain": [
       "<Figure size 640x480 with 1 Axes>"
      ],
      "image/png": "[encoded data removed]"
     },
     "metadata": {},
     "output_type": "display_data"
    }
   ],
   "execution_count": 42
  },
  {
   "metadata": {
    "ExecuteTime": {
     "end_time": "2025-04-28T15:32:20.232080Z",
     "start_time": "2025-04-28T15:32:20.220056Z"
    }
   },
   "cell_type": "code",
   "source": "stats.skew(df['Height'])",
   "id": "f68b006cce7e8dfd",
   "outputs": [
    {
     "data": {
      "text/plain": [
       "np.float64(-0.12154764352037799)"
      ]
     },
     "execution_count": 43,
     "metadata": {},
     "output_type": "execute_result"
    }
   ],
   "execution_count": 43
  },
  {
   "metadata": {
    "ExecuteTime": {
     "end_time": "2025-04-28T15:33:53.588929Z",
     "start_time": "2025-04-28T15:33:53.576370Z"
    }
   },
   "cell_type": "code",
   "source": "stattools.robust_skewness(df['Height'])",
   "id": "97549143baec5708",
   "outputs": [
    {
     "data": {
      "text/plain": [
       "(np.float64(-0.12154764352037792),\n",
       " np.float64(-0.03571428571428571),\n",
       " np.float64(-0.03938792859166985),\n",
       " np.float64(-0.03398766262609847))"
      ]
     },
     "execution_count": 45,
     "metadata": {},
     "output_type": "execute_result"
    }
   ],
   "execution_count": 45
  },
  {
   "metadata": {
    "ExecuteTime": {
     "end_time": "2025-04-28T15:41:47.618213Z",
     "start_time": "2025-04-28T15:41:47.603701Z"
    }
   },
   "cell_type": "code",
   "source": "kurtosis(df['Height'])",
   "id": "386b29ec1884e04d",
   "outputs": [
    {
     "data": {
      "text/plain": [
       "np.float64(-1.1204815940488286)"
      ]
     },
     "execution_count": 47,
     "metadata": {},
     "output_type": "execute_result"
    }
   ],
   "execution_count": 47
  },
  {
   "metadata": {
    "ExecuteTime": {
     "end_time": "2025-04-28T15:45:36.502359Z",
     "start_time": "2025-04-28T15:45:36.488763Z"
    }
   },
   "cell_type": "code",
   "source": "kurtosis(df['Height'], fisher=False)",
   "id": "e056ec8e74781791",
   "outputs": [
    {
     "data": {
      "text/plain": [
       "np.float64(1.8795184059511714)"
      ]
     },
     "execution_count": 48,
     "metadata": {},
     "output_type": "execute_result"
    }
   ],
   "execution_count": 48
  },
  {
   "metadata": {
    "ExecuteTime": {
     "end_time": "2025-04-28T15:46:36.998434Z",
     "start_time": "2025-04-28T15:46:36.973314Z"
    }
   },
   "cell_type": "code",
   "source": "df.describe(percentiles=np.arange(0, 1, 0.1))",
   "id": "333adf1598f905ba",
   "outputs": [
    {
     "data": {
      "text/plain": [
       "           Height\n",
       "count  500.000000\n",
       "mean   169.944000\n",
       "std     16.375261\n",
       "min    140.000000\n",
       "0%     140.000000\n",
       "10%    146.000000\n",
       "20%    153.000000\n",
       "30%    159.000000\n",
       "40%    165.000000\n",
       "50%    170.500000\n",
       "60%    177.000000\n",
       "70%    182.000000\n",
       "80%    186.000000\n",
       "90%    191.000000\n",
       "max    199.000000"
      ],
      "text/html": [
       "<div>\n",
       "<style scoped>\n",
       "    .dataframe tbody tr th:only-of-type {\n",
       "        vertical-align: middle;\n",
       "    }\n",
       "\n",
       "    .dataframe tbody tr th {\n",
       "        vertical-align: top;\n",
       "    }\n",
       "\n",
       "    .dataframe thead th {\n",
       "        text-align: right;\n",
       "    }\n",
       "</style>\n",
       "<table border=\"1\" class=\"dataframe\">\n",
       "  <thead>\n",
       "    <tr style=\"text-align: right;\">\n",
       "      <th></th>\n",
       "      <th>Height</th>\n",
       "    </tr>\n",
       "  </thead>\n",
       "  <tbody>\n",
       "    <tr>\n",
       "      <th>count</th>\n",
       "      <td>500.000000</td>\n",
       "    </tr>\n",
       "    <tr>\n",
       "      <th>mean</th>\n",
       "      <td>169.944000</td>\n",
       "    </tr>\n",
       "    <tr>\n",
       "      <th>std</th>\n",
       "      <td>16.375261</td>\n",
       "    </tr>\n",
       "    <tr>\n",
       "      <th>min</th>\n",
       "      <td>140.000000</td>\n",
       "    </tr>\n",
       "    <tr>\n",
       "      <th>0%</th>\n",
       "      <td>140.000000</td>\n",
       "    </tr>\n",
       "    <tr>\n",
       "      <th>10%</th>\n",
       "      <td>146.000000</td>\n",
       "    </tr>\n",
       "    <tr>\n",
       "      <th>20%</th>\n",
       "      <td>153.000000</td>\n",
       "    </tr>\n",
       "    <tr>\n",
       "      <th>30%</th>\n",
       "      <td>159.000000</td>\n",
       "    </tr>\n",
       "    <tr>\n",
       "      <th>40%</th>\n",
       "      <td>165.000000</td>\n",
       "    </tr>\n",
       "    <tr>\n",
       "      <th>50%</th>\n",
       "      <td>170.500000</td>\n",
       "    </tr>\n",
       "    <tr>\n",
       "      <th>60%</th>\n",
       "      <td>177.000000</td>\n",
       "    </tr>\n",
       "    <tr>\n",
       "      <th>70%</th>\n",
       "      <td>182.000000</td>\n",
       "    </tr>\n",
       "    <tr>\n",
       "      <th>80%</th>\n",
       "      <td>186.000000</td>\n",
       "    </tr>\n",
       "    <tr>\n",
       "      <th>90%</th>\n",
       "      <td>191.000000</td>\n",
       "    </tr>\n",
       "    <tr>\n",
       "      <th>max</th>\n",
       "      <td>199.000000</td>\n",
       "    </tr>\n",
       "  </tbody>\n",
       "</table>\n",
       "</div>"
      ]
     },
     "execution_count": 49,
     "metadata": {},
     "output_type": "execute_result"
    }
   ],
   "execution_count": 49
  }
 ],
 "metadata": {
  "kernelspec": {
   "display_name": "Python 3",
   "language": "python",
   "name": "python3"
  },
  "language_info": {
   "codemirror_mode": {
    "name": "ipython",
    "version": 2
   },
   "file_extension": ".py",
   "mimetype": "text/x-python",
   "name": "python",
   "nbconvert_exporter": "python",
   "pygments_lexer": "ipython2",
   "version": "2.7.6"
  }
 },
 "nbformat": 4,
 "nbformat_minor": 5
}
